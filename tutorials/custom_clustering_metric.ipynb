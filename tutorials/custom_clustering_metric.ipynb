{
 "cells": [
  {
   "cell_type": "markdown",
   "id": "a13ac5be",
   "metadata": {},
   "source": [
    "# Example: Custom Evaluation Function for Clustering\n",
    "\n",
    "This example demonstrates how to define and integrate a custom evaluation function for clustering problems using the **IOHClustering** framework."
   ]
  },
  {
   "cell_type": "code",
   "execution_count": 1,
   "id": "d858903c",
   "metadata": {},
   "outputs": [],
   "source": [
    "# Import necessary libraries\n",
    "from iohclustering import create_cluster_problem, general_cluster_metric\n",
    "import ioh\n",
    "import numpy as np\n",
    "import os\n"
   ]
  },
  {
   "cell_type": "markdown",
   "id": "0e225d5a",
   "metadata": {},
   "source": [
    "## Step 1: Define the Dataset\n",
    "\n",
    "We use the `iris_pca` dataset as an example. This dataset is preprocessed and ready for clustering."
   ]
  },
  {
   "cell_type": "code",
   "execution_count": 2,
   "id": "2f098aac",
   "metadata": {},
   "outputs": [],
   "source": [
    "# Example dataset\n",
    "dataset = \"iris_pca\""
   ]
  },
  {
   "cell_type": "markdown",
   "id": "e5578804",
   "metadata": {},
   "source": [
    "## Step 2: Define Custom Functions\n",
    "\n",
    "We define a custom error function and a custom distance function to evaluate the clustering results."
   ]
  },
  {
   "cell_type": "code",
   "execution_count": 3,
   "id": "c51d35b4",
   "metadata": {},
   "outputs": [],
   "source": [
    "# Define a custom error function (MAE)\n",
    "def custom_error_function(X, centroids, labels):\n",
    "    \"\"\"\n",
    "    Custom error function to evaluate clustering performance using mean absolute error (MAE).\n",
    "    Parameters:\n",
    "        X: np.ndarray - The dataset.\n",
    "        centroids: np.ndarray - The cluster centroids.\n",
    "        labels: np.ndarray - The cluster labels for each data point.\n",
    "    Returns:\n",
    "        float - The computed mean absolute error.\n",
    "    \"\"\"\n",
    "    total_error = 0\n",
    "    for i, centroid in enumerate(centroids):\n",
    "        cluster_points = X[labels == i]\n",
    "        total_error += np.sum(np.abs(cluster_points - centroid))\n",
    "    return total_error / len(X)\n",
    "\n",
    "# Define a custom distance function (Cosine similarity)\n",
    "def custom_distance_function(x, centroids):\n",
    "    \"\"\"\n",
    "    Custom distance function to compute the cosine similarity between a point and centroids.\n",
    "    Parameters:\n",
    "        x: np.ndarray - A single data point.\n",
    "        centroids: np.ndarray - The cluster centroids.\n",
    "    Returns:\n",
    "        np.ndarray - The computed cosine similarities.\n",
    "    \"\"\"\n",
    "    # Normalize the input point and centroids\n",
    "    x_norm = np.linalg.norm(x)\n",
    "    centroids_norm = np.linalg.norm(centroids, axis=1)\n",
    "    \n",
    "    # Compute cosine similarity\n",
    "    cosine_similarity = np.dot(centroids, x) / (centroids_norm * x_norm)\n",
    "    return cosine_similarity"
   ]
  },
  {
   "cell_type": "markdown",
   "id": "64b1a3f0",
   "metadata": {},
   "source": [
    "## Step 3: Create the Clustering Problem\n",
    "\n",
    "We use the `general_cluster_metric` function to combine the custom error and distance functions. Then, we create a clustering problem using the custom metric."
   ]
  },
  {
   "cell_type": "code",
   "execution_count": 4,
   "id": "0ef973fe",
   "metadata": {},
   "outputs": [],
   "source": [
    "# Combine custom functions into a clustering metric\n",
    "clustering_function = general_cluster_metric(custom_distance_function, custom_error_function)\n",
    "\n",
    "# Create a clustering problem with the custom function\n",
    "clustering_problem, retransform = create_cluster_problem(\n",
    "    dataset=dataset,\n",
    "    k=2,\n",
    "    error_metric=clustering_function\n",
    ")"
   ]
  },
  {
   "cell_type": "markdown",
   "id": "1fc72b43",
   "metadata": {},
   "source": [
    "## Step 4: Define the Random Search Algorithm\n",
    "\n",
    "We implement a simple random search algorithm that generates random solutions and evaluates them."
   ]
  },
  {
   "cell_type": "code",
   "execution_count": 5,
   "id": "a05bc3ca",
   "metadata": {},
   "outputs": [],
   "source": [
    "# Define a simple random search algorithm\n",
    "class RandomSearch:\n",
    "    \"\"\"Simple random search algorithm\"\"\"\n",
    "    def __init__(self, budget_factor: int):\n",
    "        self.budget_factor: int = budget_factor\n",
    "\n",
    "    def __call__(self, problem: ioh.problem.RealSingleObjective) -> None:\n",
    "        \"\"\"Evaluate the problem `budget_factor * DIM` times with a randomly generated solution\"\"\"\n",
    "        for _ in range(self.budget_factor * problem.meta_data.n_variables):\n",
    "            x = np.random.uniform(problem.bounds.lb, problem.bounds.ub)\n",
    "            problem(x)"
   ]
  },
  {
   "cell_type": "markdown",
   "id": "c0da8009",
   "metadata": {},
   "source": [
    "## Step 5: Set Up the Logger\n",
    "\n",
    "We use the `ioh.logger.Analyzer` to log the results of the random search for further analysis."
   ]
  },
  {
   "cell_type": "code",
   "execution_count": 6,
   "id": "e236402e",
   "metadata": {},
   "outputs": [],
   "source": [
    "# Set up a logger to store results\n",
    "logger = ioh.logger.Analyzer(\n",
    "    root=os.getcwd(),\n",
    "    folder_name=\"Custom_Metric_Random_Search_Test\",\n",
    "    algorithm_name=\"RandomSearch\",\n",
    ")"
   ]
  },
  {
   "cell_type": "markdown",
   "id": "ea76a76d",
   "metadata": {},
   "source": [
    "## Step 6: Run the Random Search Algorithm\n",
    "\n",
    "We attach the logger to the clustering problem and execute the random search algorithm."
   ]
  },
  {
   "cell_type": "code",
   "execution_count": 7,
   "id": "3d518238",
   "metadata": {},
   "outputs": [],
   "source": [
    "# Attach the logger and run the random search\n",
    "RS = RandomSearch(budget_factor=2000)\n",
    "clustering_problem.attach_logger(logger)\n",
    "RS(clustering_problem)\n",
    "clustering_problem.reset()"
   ]
  },
  {
   "cell_type": "markdown",
   "id": "791cb252",
   "metadata": {},
   "source": [
    "## Step 7: Close the Logger\n",
    "\n",
    "Finally, we close the logger to ensure all results are saved properly."
   ]
  },
  {
   "cell_type": "code",
   "execution_count": 8,
   "id": "47034443",
   "metadata": {},
   "outputs": [],
   "source": [
    "# Close the logger after the run\n",
    "logger.close()"
   ]
  },
  {
   "cell_type": "markdown",
   "id": "b7b5ecc5",
   "metadata": {},
   "source": [
    "## Conclusion\n",
    "\n",
    "This example demonstrates how to integrate a custom evaluation function into the **IOHClustering** framework. You can extend this example by implementing specific logic in the custom error and distance functions to suit your clustering needs."
   ]
  }
 ],
 "metadata": {
  "kernelspec": {
   "display_name": "iohclustering",
   "language": "python",
   "name": "python3"
  },
  "language_info": {
   "codemirror_mode": {
    "name": "ipython",
    "version": 3
   },
   "file_extension": ".py",
   "mimetype": "text/x-python",
   "name": "python",
   "nbconvert_exporter": "python",
   "pygments_lexer": "ipython3",
   "version": "3.10.16"
  }
 },
 "nbformat": 4,
 "nbformat_minor": 5
}
