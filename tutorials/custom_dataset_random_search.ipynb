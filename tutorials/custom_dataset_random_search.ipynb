{
 "cells": [
  {
   "cell_type": "markdown",
   "id": "3ee333cd",
   "metadata": {},
   "source": [
    "# Example: Solving a Custom Dataset with Random Search\n",
    "\n",
    "This example demonstrates how to solve a clustering problem using a simple random search algorithm."
   ]
  },
  {
   "cell_type": "code",
   "execution_count": 3,
   "id": "7181cb27",
   "metadata": {},
   "outputs": [],
   "source": [
    "# Import necessary libraries\n",
    "from iohclustering import create_cluster_problem\n",
    "import ioh\n",
    "import numpy as np\n",
    "import os"
   ]
  },
  {
   "cell_type": "markdown",
   "id": "03e41ad8",
   "metadata": {},
   "source": [
    "## Step 1: Define the Dataset\n",
    "\n",
    "We start by defining a simple dataset of 2D points that will be used for clustering."
   ]
  },
  {
   "cell_type": "code",
   "execution_count": 4,
   "id": "9f5eb6b0",
   "metadata": {},
   "outputs": [],
   "source": [
    "# Example dataset\n",
    "dataset = [\n",
    "    [1.0, 2.0],\n",
    "    [2.0, 3.0],\n",
    "    [3.0, 4.0],\n",
    "    [8.0, 9.0],\n",
    "    [9.0, 10.0]\n",
    "]"
   ]
  },
  {
   "cell_type": "markdown",
   "id": "5695dd4c",
   "metadata": {},
   "source": [
    "## Step 2: Initialize the Clustering Problem\n",
    "\n",
    "We use the `create_cluster_problem` function to define a clustering problem with `k=2` clusters."
   ]
  },
  {
   "cell_type": "code",
   "execution_count": 5,
   "id": "4502e5da",
   "metadata": {},
   "outputs": [],
   "source": [
    "# Initialize the clustering interface\n",
    "clustering_problem, retransform = create_cluster_problem(dataset, k=2)"
   ]
  },
  {
   "cell_type": "markdown",
   "id": "836a4c1a",
   "metadata": {},
   "source": [
    "## Step 3: Define the Random Search Algorithm\n",
    "\n",
    "We implement a simple random search algorithm that generates random solutions and evaluates them."
   ]
  },
  {
   "cell_type": "code",
   "execution_count": 6,
   "id": "6a74d39c",
   "metadata": {},
   "outputs": [],
   "source": [
    "# Define a simple random search algorithm\n",
    "class RandomSearch:\n",
    "    \"\"\"Simple random search algorithm\"\"\"\n",
    "    def __init__(self, budget_factor: int):\n",
    "        self.budget_factor: int = budget_factor\n",
    "\n",
    "    def __call__(self, problem: ioh.problem.RealSingleObjective) -> None:\n",
    "        \"\"\"Evaluate the problem `budget_factor * DIM` times with a randomly generated solution\"\"\"\n",
    "        for _ in range(self.budget_factor * problem.meta_data.n_variables):\n",
    "            x = np.random.uniform(problem.bounds.lb, problem.bounds.ub)\n",
    "            problem(x)"
   ]
  },
  {
   "cell_type": "markdown",
   "id": "9ee41c75",
   "metadata": {},
   "source": [
    "## Step 4: Set Up the Logger\n",
    "\n",
    "We use the `ioh.logger.Analyzer` to log the results of the random search for further analysis."
   ]
  },
  {
   "cell_type": "code",
   "execution_count": 7,
   "id": "0d74e3aa",
   "metadata": {},
   "outputs": [],
   "source": [
    "# Set up a logger to store results\n",
    "logger = ioh.logger.Analyzer(\n",
    "    root=os.getcwd(),\n",
    "    folder_name=\"CustomDataSet_RamdomSearch_Test\",\n",
    "    algorithm_name=\"RandomSearch\",\n",
    ")"
   ]
  },
  {
   "cell_type": "markdown",
   "id": "84a995da",
   "metadata": {},
   "source": [
    "## Step 5: Run the Random Search Algorithm\n",
    "\n",
    "We attach the logger to the clustering problem and execute the random search algorithm."
   ]
  },
  {
   "cell_type": "code",
   "execution_count": 8,
   "id": "7d706b06",
   "metadata": {},
   "outputs": [],
   "source": [
    "# Attach the logger and run the random search\n",
    "RS = RandomSearch(budget_factor=2000)\n",
    "clustering_problem.attach_logger(logger)\n",
    "RS(clustering_problem)\n",
    "clustering_problem.reset()"
   ]
  },
  {
   "cell_type": "markdown",
   "id": "0036509e",
   "metadata": {},
   "source": [
    "## Step 6: Close the Logger\n",
    "\n",
    "Finally, we close the logger to ensure all results are saved properly."
   ]
  },
  {
   "cell_type": "code",
   "execution_count": 9,
   "id": "2c137fd2",
   "metadata": {},
   "outputs": [],
   "source": [
    "# Close the logger after the run\n",
    "logger.close()"
   ]
  },
  {
   "cell_type": "markdown",
   "id": "5f4f37bf",
   "metadata": {},
   "source": [
    "## Conclusion\n",
    "\n",
    "This example illustrates how to define a clustering problem, solve it using random search, and log the results for further analysis. You can extend this example by visualizing the clustering results or experimenting with different algorithms."
   ]
  }
 ],
 "metadata": {
  "kernelspec": {
   "display_name": "iohclustering",
   "language": "python",
   "name": "python3"
  },
  "language_info": {
   "codemirror_mode": {
    "name": "ipython",
    "version": 3
   },
   "file_extension": ".py",
   "mimetype": "text/x-python",
   "name": "python",
   "nbconvert_exporter": "python",
   "pygments_lexer": "ipython3",
   "version": "3.10.16"
  }
 },
 "nbformat": 4,
 "nbformat_minor": 5
}
